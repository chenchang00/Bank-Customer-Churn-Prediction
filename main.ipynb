{
 "cells": [
  {
   "cell_type": "code",
   "execution_count": 4,
   "metadata": {},
   "outputs": [],
   "source": [
    "from data_transformation import *\n",
    "import pandas as pd\n",
    "from model import *"
   ]
  },
  {
   "cell_type": "code",
   "execution_count": 5,
   "metadata": {},
   "outputs": [],
   "source": [
    "data = pd.read_csv(\"Customer-Churn-Records.csv\")\n",
    "data = data.drop(['RowNumber','CustomerId','Surname'],axis=1)"
   ]
  },
  {
   "cell_type": "code",
   "execution_count": 6,
   "metadata": {},
   "outputs": [],
   "source": [
    "y = data['Exited']\n",
    "X = data.drop('Exited',axis=1)"
   ]
  },
  {
   "cell_type": "code",
   "execution_count": 7,
   "metadata": {},
   "outputs": [
    {
     "name": "stderr",
     "output_type": "stream",
     "text": [
      "/Users/renyue/Desktop/Cornell/course/Spring 2024/5741/project/data_transformation.py:14: FutureWarning: Downcasting behavior in `replace` is deprecated and will be removed in a future version. To retain the old behavior, explicitly call `result.infer_objects(copy=False)`. To opt-in to the future behavior, set `pd.set_option('future.no_silent_downcasting', True)`\n",
      "  return X.replace(\"DIAMOND\",1).replace(\"PLATINUM\",0.75).replace(\"GOLD\", 0.5).replace(\"SILVER\",0.25)\n",
      "/Users/renyue/Desktop/Cornell/course/Spring 2024/5741/project/data_transformation.py:14: FutureWarning: Downcasting behavior in `replace` is deprecated and will be removed in a future version. To retain the old behavior, explicitly call `result.infer_objects(copy=False)`. To opt-in to the future behavior, set `pd.set_option('future.no_silent_downcasting', True)`\n",
      "  return X.replace(\"DIAMOND\",1).replace(\"PLATINUM\",0.75).replace(\"GOLD\", 0.5).replace(\"SILVER\",0.25)\n"
     ]
    }
   ],
   "source": [
    "input = data_transformation(X)"
   ]
  },
  {
   "cell_type": "code",
   "execution_count": 25,
   "metadata": {},
   "outputs": [
    {
     "name": "stdout",
     "output_type": "stream",
     "text": [
      "0.9986824769433466\n",
      "1.0\n",
      "[[1620    1]\n",
      " [   0  379]]\n"
     ]
    }
   ],
   "source": [
    "coefs = Logistic(input,y)"
   ]
  },
  {
   "cell_type": "code",
   "execution_count": 28,
   "metadata": {},
   "outputs": [],
   "source": [
    "d = {}\n",
    "cols = ['Age','Tenure','NumOfProducts','Satisfaction Score','Balance','EstimatedSalary','Point Earned','CreditScore','France','Germany','Spain','Gender','Card Type','HasCrCard','IsActiveMember','Complain']\n",
    "for col, coef in zip(cols, coefs[0]):\n",
    "    d[col] = coef"
   ]
  },
  {
   "cell_type": "code",
   "execution_count": 29,
   "metadata": {},
   "outputs": [
    {
     "data": {
      "text/plain": [
       "{'Age': 1.8367509876094905,\n",
       " 'Tenure': -0.2623441718667687,\n",
       " 'NumOfProducts': -0.4020804515467517,\n",
       " 'Satisfaction Score': -0.2646421643099717,\n",
       " 'Balance': 0.2663679885215868,\n",
       " 'EstimatedSalary': 0.0804494260187936,\n",
       " 'Point Earned': -0.683602109498004,\n",
       " 'CreditScore': 0.0060535704783094835,\n",
       " 'France': -0.5020935617840009,\n",
       " 'Germany': -0.5067771962028156,\n",
       " 'Spain': -0.33448683233458726,\n",
       " 'Gender': -0.3032156422521085,\n",
       " 'Card Type': 0.048884964610455724,\n",
       " 'HasCrCard': -0.09405497189973698,\n",
       " 'IsActiveMember': -0.6714816506459789,\n",
       " 'Complain': 10.331041207881306}"
      ]
     },
     "execution_count": 29,
     "metadata": {},
     "output_type": "execute_result"
    }
   ],
   "source": [
    "d"
   ]
  },
  {
   "cell_type": "code",
   "execution_count": null,
   "metadata": {},
   "outputs": [],
   "source": []
  }
 ],
 "metadata": {
  "kernelspec": {
   "display_name": "Python 3",
   "language": "python",
   "name": "python3"
  },
  "language_info": {
   "codemirror_mode": {
    "name": "ipython",
    "version": 3
   },
   "file_extension": ".py",
   "mimetype": "text/x-python",
   "name": "python",
   "nbconvert_exporter": "python",
   "pygments_lexer": "ipython3",
   "version": "3.12.1"
  }
 },
 "nbformat": 4,
 "nbformat_minor": 2
}
